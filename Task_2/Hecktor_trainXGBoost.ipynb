{
 "cells": [
  {
   "cell_type": "code",
   "execution_count": null,
   "id": "b3503439",
   "metadata": {},
   "outputs": [],
   "source": [
    "import pandas as pd\n",
    "import numpy as np\n",
    "import matplotlib.pyplot as plt\n",
    "from xgboost import XGBRegressor\n",
    "from sklearn.model_selection import RandomizedSearchCV, GridSearchCV, cross_val_score, KFold\n",
    "from sklearn.metrics import mean_squared_error\n",
    "import seaborn as sns"
   ]
  },
  {
   "cell_type": "code",
   "execution_count": null,
   "id": "aa24b1a0",
   "metadata": {},
   "outputs": [],
   "source": [
    "pd.set_option('display.max_rows', None)"
   ]
  },
  {
   "cell_type": "markdown",
   "id": "dc997855",
   "metadata": {},
   "source": [
    "## Importing data\n",
    "### Link to the challenge: \n",
    " https://hecktor.grand-challenge.org/Data/\n",
    " \n",
    " https://hecktor.grand-challenge.org/Evaluation/"
   ]
  },
  {
   "cell_type": "markdown",
   "id": "2ae9ff26",
   "metadata": {},
   "source": [
    "## Leaderboard:\n",
    "### https://hecktor.grand-challenge.org/evaluation/challenge/leaderboard/"
   ]
  },
  {
   "cell_type": "code",
   "execution_count": null,
   "id": "7ffd7eae",
   "metadata": {},
   "outputs": [],
   "source": [
    "train_data = pd.read_csv('hecktor-task2-TRAINIMAGES.csv', index_col='pid')\n",
    "test_data = pd.read_csv('hecktor-task2-TESTIMAGES.csv')"
   ]
  },
  {
   "cell_type": "code",
   "execution_count": null,
   "id": "a985ecd6",
   "metadata": {},
   "outputs": [],
   "source": [
    "test_data"
   ]
  },
  {
   "cell_type": "code",
   "execution_count": null,
   "id": "a7529426",
   "metadata": {},
   "outputs": [],
   "source": [
    "train_data"
   ]
  },
  {
   "cell_type": "code",
   "execution_count": null,
   "id": "e2bdc978",
   "metadata": {},
   "outputs": [],
   "source": [
    "#Question about whether we use \"correct\" RFS: \n",
    "#At least we don't have any negative target values, so it doesn't make sense to multiply predictions with -1\n",
    "train_data['RFS'].describe()"
   ]
  },
  {
   "cell_type": "code",
   "execution_count": null,
   "id": "193f470e",
   "metadata": {},
   "outputs": [],
   "source": [
    "#\"Median RFS of 14 months in the training dataset\", according to the Dataset page\n",
    "#This is not true for our dataset, where I get approx. 40 months: \n",
    "# Divides with 30 because it is approx 30 days in a month (and RFS is measured in days)\n",
    "1207/30\n",
    "\n",
    "#Also, there are 488 observations in training and 359 in test set, while on the web page, it says 489 and 339, respectively. \n",
    "# https://hecktor.grand-challenge.org/Data/"
   ]
  },
  {
   "cell_type": "markdown",
   "id": "ab0da23e",
   "metadata": {},
   "source": [
    "### Data exploration"
   ]
  },
  {
   "cell_type": "code",
   "execution_count": null,
   "id": "2fc3bda7",
   "metadata": {},
   "outputs": [],
   "source": [
    "test_data.isna().sum()"
   ]
  },
  {
   "cell_type": "code",
   "execution_count": null,
   "id": "0b63e18d",
   "metadata": {},
   "outputs": [],
   "source": [
    "train_data.isna().sum()"
   ]
  },
  {
   "cell_type": "code",
   "execution_count": null,
   "id": "236bfc10",
   "metadata": {},
   "outputs": [],
   "source": [
    "# Tobacco, Alcohol and performance status are probably important for prediction of survival\n",
    "#However, alcohol is missing for almost all patients, and should probably be excluded...\n",
    "train_data = train_data.drop(['Alcohol'], axis=1)\n",
    "test_data = test_data.drop(['Alcohol'], axis=1)"
   ]
  },
  {
   "cell_type": "markdown",
   "id": "1ab27a64",
   "metadata": {},
   "source": [
    "### Estimate the kidney function (using average serum creatinine values\n",
    "#### https://www.mayoclinic.org/tests-procedures/creatinine-test/about/pac-20384646\n",
    "#### Using micromoles/mL\n",
    "#### Cockraft-Gault formula: https://gpnotebook.com/simplepage.cfm?ID=x20191025171810070107"
   ]
  },
  {
   "cell_type": "code",
   "execution_count": null,
   "id": "9fb77822",
   "metadata": {},
   "outputs": [],
   "source": [
    "#Since serum creatinine is not available in dataset, we use average values for males and females\n",
    "male_creatinine = (65.4 + 119.2)/2\n",
    "female_creatinine = (52.2 + 91.9)/2"
   ]
  },
  {
   "cell_type": "code",
   "execution_count": null,
   "id": "fb718f16",
   "metadata": {},
   "outputs": [],
   "source": [
    "#Estimate the kidney function in the training data\n",
    "gfr_list=[]\n",
    "for i in range(train_data.shape[0]):\n",
    "    if train_data.iloc[i,5]==0:\n",
    "        #print('This is a male:', train_data.iloc[i,:])\n",
    "        temp_gfr = (((140 - train_data.iloc[i,6]) * train_data.iloc[i,7])*1.23)/male_creatinine\n",
    "    else:\n",
    "        #print('This is a female:', train_data.iloc[i,:])\n",
    "        temp_gfr = 0.85*((((140 - train_data.iloc[i,6]) * train_data.iloc[i,7])*1.23)/female_creatinine)\n",
    "    gfr_list.append(temp_gfr)"
   ]
  },
  {
   "cell_type": "code",
   "execution_count": null,
   "id": "4c385ab4",
   "metadata": {},
   "outputs": [],
   "source": [
    "#Repeat for the test set:\n",
    "gfr_list_test=[]\n",
    "for i in range(test_data.shape[0]):\n",
    "    if test_data.iloc[i,5]==0:\n",
    "        #print('This is a male:', train_data.iloc[i,:])\n",
    "        temp_gfr = (((140 - test_data.iloc[i,6]) * test_data.iloc[i,7])*1.23)/male_creatinine\n",
    "    else:\n",
    "        #print('This is a female:', train_data.iloc[i,:])\n",
    "        temp_gfr = 0.85*((((140 - test_data.iloc[i,6]) * test_data.iloc[i,7])*1.23)/female_creatinine)\n",
    "    gfr_list_test.append(temp_gfr)"
   ]
  },
  {
   "cell_type": "code",
   "execution_count": null,
   "id": "a1c23e5d",
   "metadata": {},
   "outputs": [],
   "source": [
    "train_data['eGFR'] = gfr_list\n",
    "test_data['eGFR'] = gfr_list_test"
   ]
  },
  {
   "cell_type": "code",
   "execution_count": null,
   "id": "829d5529",
   "metadata": {},
   "outputs": [],
   "source": [
    "#Split data into X and y\n",
    "y_train = train_data['RFS']\n",
    "y_test = test_data['RFS']\n",
    "X_train = train_data.drop(['RFS'], axis = 1)\n",
    "X_test = test_data.drop(['RFS'], axis = 1)"
   ]
  },
  {
   "cell_type": "code",
   "execution_count": null,
   "id": "19910821",
   "metadata": {},
   "outputs": [],
   "source": [
    "#Switch the axis to get the RFS as last column:\n",
    "new_traindata = pd.concat([X_train, y_train], axis = 1)"
   ]
  },
  {
   "cell_type": "code",
   "execution_count": null,
   "id": "1a87251f",
   "metadata": {},
   "outputs": [],
   "source": [
    "# Plot the correlations for the training data:\n",
    "plt.figure(figsize=(10,10))\n",
    "corr = new_traindata.corr()\n",
    "mask = np.triu(np.ones_like(corr, dtype=bool))\n",
    "heat_map = sns.heatmap(corr, mask = mask, annot = True)\n",
    "\n",
    "plt.xticks(size = 14)\n",
    "plt.yticks(size = 14)\n",
    "plt.title('Correlations between input features and RFS', size=18)\n",
    "\n",
    "plt.tight_layout()\n",
    "plt.show()\n",
    "#plt.savefig('Diagonal_HeatmapTrainingData_Task2_Annotated.png')"
   ]
  },
  {
   "cell_type": "markdown",
   "id": "904f582d",
   "metadata": {},
   "source": [
    "## Create an XGBoost regressor:"
   ]
  },
  {
   "cell_type": "code",
   "execution_count": null,
   "id": "7302d87f",
   "metadata": {},
   "outputs": [],
   "source": [
    "#Hyperparameter search: \n",
    "params = {\n",
    "    'n_estimators': [110,120,130],\n",
    "    'learning_rate':[0.1,0.075,0.05],\n",
    "    'max_depth':[5,4,3,2],\n",
    "    'subsample':[0.8,0.75, 0.7],\n",
    "    'colsample_bytree':[0.7, 0.6, 0.5],\n",
    "    'colsample_bynode':[1,0.9],\n",
    "    'colsample_bylevel':[0.9, 0.8, 0.7]\n",
    "}"
   ]
  },
  {
   "cell_type": "code",
   "execution_count": null,
   "id": "5a8d3b13",
   "metadata": {},
   "outputs": [],
   "source": [
    "model = XGBRegressor(booster = 'gbtree', random_state = 42, objective = 'reg:squarederror')\n",
    "kfold = KFold(n_splits = 10, shuffle = True, random_state=42)\n",
    "\n",
    "xgb_model = RandomizedSearchCV(\n",
    "    estimator = model,\n",
    "    param_distributions = params,\n",
    "    random_state = 42,\n",
    "    n_jobs = -1,\n",
    "    cv = kfold,\n",
    "    scoring = 'neg_mean_squared_error'\n",
    ")\n",
    "xgb_model.fit(X_train, y_train)"
   ]
  },
  {
   "cell_type": "code",
   "execution_count": null,
   "id": "06fd5bba",
   "metadata": {},
   "outputs": [],
   "source": [
    "print('Best score:',np.sqrt(-1*xgb_model.best_score_))\n",
    "xgb_model.best_params_"
   ]
  },
  {
   "cell_type": "code",
   "execution_count": null,
   "id": "51e65dac",
   "metadata": {},
   "outputs": [],
   "source": [
    "#Pick the most promising hyperparameter values and fit the model on the entire training dataset:\n",
    "my_model = XGBRegressor(booster = 'gbtree', random_state = 42, objective = 'reg:squarederror',\n",
    "                       subsample = 0.7, n_estimators = 120, max_depth = 4, learning_rate = 0.05, \n",
    "                       colsample_bytree = 0.6, colsample_bynode=1, colsample_bylevel=0.8)\n",
    "my_model.fit(X_train, y_train)\n",
    "\n"
   ]
  },
  {
   "cell_type": "code",
   "execution_count": null,
   "id": "2c1aa1bb",
   "metadata": {},
   "outputs": [],
   "source": [
    "#Predict on the training data:\n",
    "y_pred = my_model.predict(X_train)"
   ]
  },
  {
   "cell_type": "code",
   "execution_count": null,
   "id": "e5672838",
   "metadata": {},
   "outputs": [],
   "source": [
    "#Calculating RMSE on training data:\n",
    "np.sqrt(mean_squared_error(y_pred, y_train))"
   ]
  },
  {
   "cell_type": "markdown",
   "id": "35da8007",
   "metadata": {},
   "source": [
    "## Predicting on the test set:"
   ]
  },
  {
   "cell_type": "code",
   "execution_count": null,
   "id": "0a40ffb1",
   "metadata": {},
   "outputs": [],
   "source": [
    "test_predictions = my_model.predict(X_test)"
   ]
  },
  {
   "cell_type": "code",
   "execution_count": null,
   "id": "88a9b781",
   "metadata": {},
   "outputs": [],
   "source": [
    "test_predictions"
   ]
  },
  {
   "cell_type": "code",
   "execution_count": null,
   "id": "86d91a48",
   "metadata": {},
   "outputs": [],
   "source": [
    "#Concatenate X_test with the predicted values: \n",
    "X_test_predicted = pd.concat([X_test, pd.DataFrame(test_predictions, columns = ['Test_predictions'])], axis = 1)"
   ]
  },
  {
   "cell_type": "code",
   "execution_count": null,
   "id": "9c34ece5",
   "metadata": {},
   "outputs": [],
   "source": [
    "X_test_predicted['Test_predictions_rounded']= X_test_predicted['Test_predictions'].round(0)"
   ]
  },
  {
   "cell_type": "code",
   "execution_count": null,
   "id": "58f6178c",
   "metadata": {},
   "outputs": [],
   "source": [
    "#Read in predictions for only the patients that should be included in Task 2: \n",
    "task2_predictions = pd.read_csv('hecktor-task2-andrea339.csv')\n",
    "task2_predictions['OriginalPrediction'] = task2_predictions['-Prediction']*-1\n",
    "task2_predictions['OriginalPrediction_rounded'] = task2_predictions['OriginalPrediction'].round(0)"
   ]
  },
  {
   "cell_type": "code",
   "execution_count": null,
   "id": "39535a19",
   "metadata": {},
   "outputs": [],
   "source": [
    "filtering_list = task2_predictions['OriginalPrediction_rounded'].tolist()"
   ]
  },
  {
   "cell_type": "code",
   "execution_count": null,
   "id": "57262730",
   "metadata": {},
   "outputs": [],
   "source": [
    "#Select only the rows with predicted values for the 339 patients:\n",
    "X_test_predicted = X_test_predicted[X_test_predicted['Test_predictions_rounded'].isin(filtering_list)]"
   ]
  },
  {
   "cell_type": "code",
   "execution_count": null,
   "id": "84b53b26",
   "metadata": {},
   "outputs": [],
   "source": [
    "#Need to drop three more rows, since they do not belong to the test set:\n",
    "X_test_predicted = X_test_predicted.drop([313, 336, 343], axis = 0)"
   ]
  },
  {
   "cell_type": "code",
   "execution_count": null,
   "id": "b55cdbe6",
   "metadata": {},
   "outputs": [],
   "source": [
    "X_test_predicted.shape"
   ]
  },
  {
   "cell_type": "code",
   "execution_count": null,
   "id": "3cb1a12f",
   "metadata": {},
   "outputs": [],
   "source": [
    "X_test_predicted"
   ]
  },
  {
   "cell_type": "code",
   "execution_count": null,
   "id": "0b4aa24b",
   "metadata": {},
   "outputs": [],
   "source": [
    "#Remove columns not used by the model: \n",
    "y_test_predicted = X_test_predicted['Test_predictions']\n",
    "X_test_predicted = X_test_predicted.drop(['Test_predictions', 'Test_predictions_rounded'], axis = 1)\n",
    "X_test_predicted"
   ]
  },
  {
   "cell_type": "markdown",
   "id": "91c1c72d",
   "metadata": {},
   "source": [
    "## Investigating SHAP values (should also do this in R)"
   ]
  },
  {
   "cell_type": "code",
   "execution_count": null,
   "id": "da15a3ad",
   "metadata": {},
   "outputs": [],
   "source": [
    "import shap\n",
    "shap.initjs()"
   ]
  },
  {
   "cell_type": "code",
   "execution_count": null,
   "id": "4519eeac",
   "metadata": {},
   "outputs": [],
   "source": [
    "explainer = shap.TreeExplainer(my_model, X_train)\n",
    "#explainer.feature_names = ['DOSE', 'TXT', 'TROUGH','1 HOUR', 'DIFFERENCE 1 HOUR','DIFFERENCE 3 HOURS', 'CONC_DIFFERENCE1','CONC_DIFFERENCE2','CONC_DIFFERENCE3','ON TIME','ESTIMATED 3 HOURS']\n",
    "shap_values = explainer.shap_values(X_test_predicted.iloc[:,:])\n",
    "shap.summary_plot(shap_values,X_test_predicted,plot_type=\"bar\", max_display=X_test_predicted.shape[1])"
   ]
  },
  {
   "cell_type": "markdown",
   "id": "af03cfc9",
   "metadata": {},
   "source": [
    "### Customize the plot:"
   ]
  },
  {
   "cell_type": "code",
   "execution_count": null,
   "id": "73ae49c7",
   "metadata": {},
   "outputs": [],
   "source": [
    "#Get the global SHAP values for each feature\n",
    "shap_list = []\n",
    "for i in range(14):\n",
    "    shap_list.append(abs(shap_values[:,i,]).mean())\n",
    "    print(abs(shap_values[:,i,]).mean())"
   ]
  },
  {
   "cell_type": "code",
   "execution_count": null,
   "id": "deb61296",
   "metadata": {},
   "outputs": [],
   "source": [
    "feature_names = X_test.columns.tolist()\n",
    "shap_dict = {}\n",
    "for i in range(len(shap_list)):\n",
    "    shap_dict[feature_names[i]] = shap_list[i]\n",
    "    \n",
    "#Sort from highest SHAP-value:\n",
    "shap_dict = {k:v for k, v in sorted(shap_dict.items(), key = lambda item: item[1], reverse = True)}"
   ]
  },
  {
   "cell_type": "code",
   "execution_count": null,
   "id": "4750354f",
   "metadata": {},
   "outputs": [],
   "source": [
    "shap_dict"
   ]
  },
  {
   "cell_type": "code",
   "execution_count": null,
   "id": "a7b3a4a3",
   "metadata": {},
   "outputs": [],
   "source": [
    "most_imp_features = []\n",
    "most_imp_values = []\n",
    "for k,v in shap_dict.items():\n",
    "    most_imp_features.append(k)\n",
    "    most_imp_values.append(v)\n",
    "#most_imp_features = most_imp_features[:10]\n",
    "#most_imp_values = most_imp_values[:10]\n",
    "#Comment out for standing plots:\n",
    "most_imp_features.reverse()\n",
    "most_imp_values.reverse()"
   ]
  },
  {
   "cell_type": "code",
   "execution_count": null,
   "id": "98230246",
   "metadata": {},
   "outputs": [],
   "source": [
    "most_imp_features"
   ]
  },
  {
   "cell_type": "code",
   "execution_count": null,
   "id": "c1179918",
   "metadata": {},
   "outputs": [],
   "source": [
    "#plt.barh(most_imp_features, most_imp_values, color = '#D95B43')\n",
    "plt.barh(most_imp_features, most_imp_values, color = '#542437')\n",
    "ax = plt.gca()\n",
    "plt.xlabel(\"SHAP value\", size=14)\n",
    "plt.xticks(size = 12)\n",
    "plt.yticks(size = 12)\n",
    "plt.draw()\n",
    "plt.tight_layout()\n",
    "fig = plt.gcf()\n",
    "#Save as .svg for increased resolution\n",
    "#fig.savefig(\"SHAP_XGBoost_Task2.pdf\", format=\"pdf\")"
   ]
  },
  {
   "cell_type": "code",
   "execution_count": null,
   "id": "fe016020",
   "metadata": {},
   "outputs": [],
   "source": [
    "#Save model: \n",
    "#my_model.save_model('hecktor_xgboostModel.model')"
   ]
  }
 ],
 "metadata": {
  "kernelspec": {
   "display_name": "Python 3",
   "language": "python",
   "name": "python3"
  },
  "language_info": {
   "codemirror_mode": {
    "name": "ipython",
    "version": 3
   },
   "file_extension": ".py",
   "mimetype": "text/x-python",
   "name": "python",
   "nbconvert_exporter": "python",
   "pygments_lexer": "ipython3",
   "version": "3.9.2"
  }
 },
 "nbformat": 4,
 "nbformat_minor": 5
}
